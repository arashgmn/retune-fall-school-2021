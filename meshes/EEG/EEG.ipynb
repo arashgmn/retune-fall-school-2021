{
 "cells": [
  {
   "cell_type": "code",
   "execution_count": 1,
   "metadata": {},
   "outputs": [],
   "source": [
    "import matplotlib\n",
    "# import matplotlib.cm as cm\n",
    "# from matplotlib.colors import Normalize\n",
    "# from mpl_toolkits.axes_grid1.inset_locator import (inset_axes, InsetPosition,\n",
    "# mark_inset)\n",
    "# %matplotlib inline\n",
    "# matplotlib.use('Qt5Agg')\n",
    "import matplotlib.pyplot as plt\n",
    "import numpy as np\n",
    "# from numpy import isclose\n",
    "from dolfin import *\n",
    "# import matplotlib.pyplot as plt\n",
    "from multiphenics import *\n",
    "\n",
    "# import dolfin\n",
    "# import multiphenics\n",
    "# import matplotlib\n",
    "\n",
    "# print(np.__version__) # 1.19.5\n",
    "# print(matplotlib.__version__) # 3.0.3\n",
    "# print(dolfin.__version__)# 2019.2.0.dev0"
   ]
  },
  {
   "cell_type": "markdown",
   "metadata": {},
   "source": [
    "# Goal\n",
    "?"
   ]
  },
  {
   "cell_type": "code",
   "execution_count": 2,
   "metadata": {},
   "outputs": [],
   "source": [
    "# Some global parameters\n",
    "tol = DOLFIN_EPS\n",
    "degree = 2\n",
    "\n",
    "sigma = 1\n",
    "L = 1. # mesh size"
   ]
  },
  {
   "cell_type": "code",
   "execution_count": 3,
   "metadata": {},
   "outputs": [],
   "source": [
    "mesh_name = 'EEG'\n",
    "mesh = Mesh(mesh_name+\".xml\")\n",
    "subdomains = MeshFunction(\"size_t\", mesh, mesh_name+\"_physical_region.xml\")\n",
    "boundaries = MeshFunction(\"size_t\", mesh, mesh_name+\"_facet_region.xml\")\n",
    "File(mesh_name+\"_mesh.pvd\") << boundaries\n",
    "\n",
    "N=11 # number of contacts\n",
    "cnt_id=27 # contacts id begin from this number"
   ]
  },
  {
   "cell_type": "code",
   "execution_count": 4,
   "metadata": {},
   "outputs": [],
   "source": [
    "dx = Measure(\"dx\")(subdomain_data=subdomains)\n",
    "ds = Measure(\"ds\")(subdomain_data=boundaries)\n",
    "# dS = Measure(\"dS\")(subdomain_data=boundaries)\n",
    "n = FacetNormal(mesh)"
   ]
  },
  {
   "cell_type": "code",
   "execution_count": 28,
   "metadata": {},
   "outputs": [],
   "source": [
    "V = FunctionSpace(mesh, \"Lagrange\", degree)\n",
    "R = FunctionSpace(mesh, \"R\", 0) # global constant\n",
    "W = BlockFunctionSpace([V]+[R]*(N))#, restrict=[None]+ contacts)\n",
    "\n",
    "u_mix = BlockTrialFunction(W)\n",
    "v_mix = BlockTestFunction(W)\n",
    "\n",
    "# order: contact1, contact2, ...\n",
    "u_spl = block_split(u_mix)\n",
    "v_spl = block_split(v_mix)\n",
    "\n",
    "z= 1e-9\n",
    "\n",
    "# RHS\n",
    "a_00 = inner(sigma*grad(u_spl[0]), grad(v_spl[0]))*dx\n",
    "for i in range(N):\n",
    "    a_00 += dot(u_spl[0],v_spl[0])/z*ds(i+cnt_id)\n",
    "a_0n = [-dot(u_spl[0], v_spl[i+1])/z*ds(i+cnt_id) for i in range(N)]\n",
    "a_n0 = [-dot(u_spl[i+1], v_spl[0])/z*ds(i+cnt_id) for i in range(N)]\n",
    "a_nn = [+dot(u_spl[i+1], v_spl[i+1])/z*ds(i+cnt_id) for i in range(N)]\n",
    "\n",
    "\n",
    "a = np.zeros((N+1,N+1), dtype=type(a_00))\n",
    "np.fill_diagonal(a, [a_00]+a_nn)\n",
    "a[0,1:] = a_0n\n",
    "a[1:,0] = a_n0 \n",
    "a = a.tolist()\n",
    "\n",
    "# LHS\n",
    "f= Expression(\"sin(x[0]+x[1])\", element=V.ufl_element())\n",
    "I= [ Constant(0) for i in range(N) ]\n",
    "DL = [assemble(dot(n,n)*ds(i+cnt_id)) for i in range(N)] # actual contact length\n",
    "\n",
    "b= [ f*v_spl[0]*dx ] + [ I[i]*v_spl[i+1]/DL[i]*ds(i+cnt_id) for i in range(N)]\n",
    "\n",
    "# BC\n",
    "exotic_bc = Expression(\"(1+(1+x[0])*(1+x[0]))\", degree=3)\n",
    "bc0 = DirichletBC(W.sub(0), exotic_bc ,boundaries, 1) # left\n",
    "bc1 = DirichletBC(W.sub(0), exotic_bc, boundaries, 2) # right\n",
    "bc2 = DirichletBC(W.sub(0), exotic_bc, boundaries, 4) # bottom\n",
    "\n",
    "bcs = BlockDirichletBC([[bc0, bc1]]+[[]]*N)"
   ]
  },
  {
   "cell_type": "code",
   "execution_count": 29,
   "metadata": {},
   "outputs": [],
   "source": [
    "# SOLVE #\n",
    "A = block_assemble(a)\n",
    "B = block_assemble(b)\n",
    "\n",
    "bcs.apply(A)\n",
    "bcs.apply(B)\n",
    "\n",
    "U = BlockFunction(W)\n",
    "block_solve(A, U.block_vector(), B)"
   ]
  },
  {
   "cell_type": "code",
   "execution_count": 30,
   "metadata": {},
   "outputs": [
    {
     "data": {
      "image/png": "[encoded data removed]",
      "text/plain": [
       "<Figure size 432x288 with 2 Axes>"
      ]
     },
     "metadata": {},
     "output_type": "display_data"
    }
   ],
   "source": [
    "m =plot(U[0])\n",
    "plt.colorbar(m)\n",
    "plt.show()\n",
    "File('sol_'+mesh_name+'.pvd') << U[0]"
   ]
  },
  {
   "cell_type": "code",
   "execution_count": 27,
   "metadata": {},
   "outputs": [
    {
     "name": "stdout",
     "output_type": "stream",
     "text": [
      "Current at border 0 = 0.011189100729891124 \t length = 0.39999999999999986\n",
      "Current at border 1 = 15.73542411588917 \t length = 2.0\n",
      "Current at border 2 = -14.073069417182484 \t length = 2.0\n",
      "Current at border 3 = -0.8662535509437671 \t length = 2.0\n",
      "Current at border 4 = 0.0 \t length = 0.0\n",
      "Current at border 5 = -1.9635353989977813 \t length = 1.4900000000000007\n",
      "Current at border 6 = 0.0 \t length = 0.0\n",
      "Current at border 7 = 0.0 \t length = 0.0\n",
      "Current at border 8 = 0.0 \t length = 0.0\n",
      "Current at border 9 = 0.0 \t length = 0.0\n",
      "Current at border 10 = 0.0 \t length = 0.0\n",
      "Current at border 11 = 0.0 \t length = 0.0\n",
      "Current at border 12 = 0.0 \t length = 0.0\n",
      "Current at border 13 = 0.0 \t length = 0.0\n",
      "Current at border 14 = 0.0 \t length = 0.0\n",
      "Current at border 15 = 0.0 \t length = 0.0\n",
      "Current at border 16 = 0.0 \t length = 0.0\n",
      "Current at border 17 = 0.0 \t length = 0.0\n",
      "Current at border 18 = 0.0 \t length = 0.0\n",
      "Current at border 19 = 0.0 \t length = 0.0\n",
      "Current at border 20 = 0.0 \t length = 0.0\n",
      "Current at border 21 = 0.0 \t length = 0.0\n",
      "Current at border 22 = 0.0 \t length = 0.0\n",
      "Current at border 23 = 0.0 \t length = 0.0\n",
      "Current at border 24 = 0.0 \t length = 0.0\n",
      "Current at border 25 = 0.0 \t length = 0.0\n",
      "Current at border 26 = 0.0 \t length = 0.0\n",
      "Current at border 27 = 0.0006873508965631213 \t length = 0.010000000000000009\n",
      "Current at border 28 = 0.002422385894894145 \t length = 0.009999999999999981\n",
      "Current at border 29 = -0.0030597421646554037 \t length = 0.010000000000000009\n",
      "Current at border 30 = -0.0031544967409702918 \t length = 0.009999999999999995\n",
      "Current at border 31 = -0.0075985974360987954 \t length = 0.009999999999999988\n",
      "Current at border 32 = 0.0026712024419754095 \t length = 0.01\n",
      "Current at border 33 = -0.00655906788563959 \t length = 0.009999999999999988\n",
      "Current at border 34 = 0.0011211421107004777 \t length = 0.009999999999999995\n",
      "Current at border 35 = 0.0012446180187090138 \t length = 0.010000000000000009\n",
      "Current at border 36 = -0.018568981802603076 \t length = 0.009999999999999981\n",
      "Current at border 37 = 0.008660576686462071 \t length = 0.010000000000000009\n",
      "Current at contact 27 = 7.959051053635369e-09\n",
      "Current at contact 28 = -4.1098130834291147e-08\n",
      "Current at contact 29 = -4.642174347094935e-08\n",
      "Current at contact 30 = 6.916649260019919e-08\n",
      "Current at contact 31 = -8.44100757554922e-08\n",
      "Current at contact 32 = -4.718642695154818e-08\n",
      "Current at contact 33 = -4.439938150989364e-08\n",
      "Current at contact 34 = -4.880249177691143e-08\n",
      "Current at contact 35 = 1.3402653105745732e-07\n",
      "Current at contact 36 = 5.908191760307935e-08\n",
      "Current at contact 37 = -5.4956740063241694e-08\n"
     ]
    }
   ],
   "source": [
    "# sanity checks\n",
    "# comp_currs = []\n",
    "for i in range(cnt_id+N):\n",
    "    I = assemble(-sigma*dot(grad(U[0]), n)*ds(i))\n",
    "    l = assemble(dot(n, n)*ds(i))\n",
    "    print('Current at border {} = {} \\t length = {}'.format(i, I, l))\n",
    "\n",
    "for i in range(cnt_id,cnt_id+N):\n",
    "    I = assemble((U[0]-U[i+1-cnt_id])/z*ds(i))\n",
    "    print('Current at contact {} = {}'.format(i, I))"
   ]
  },
  {
   "cell_type": "code",
   "execution_count": 9,
   "metadata": {},
   "outputs": [
    {
     "data": {
      "text/plain": [
       "array([4.23103422])"
      ]
     },
     "execution_count": 9,
     "metadata": {},
     "output_type": "execute_result"
    }
   ],
   "source": [
    "U[1].vector().vec()[:]"
   ]
  },
  {
   "cell_type": "code",
   "execution_count": 10,
   "metadata": {},
   "outputs": [
    {
     "name": "stdout",
     "output_type": "stream",
     "text": [
      "Current at contact 0 = 6.72771579927637e-05\n",
      "Current at contact 1 = 0.00027805590744967175\n",
      "Current at contact 2 = -0.0003849296540947495\n",
      "Current at contact 3 = -0.00041702558852324545\n",
      "Current at contact 4 = -0.0010399199887239853\n",
      "Current at contact 5 = 0.00037355371468687456\n",
      "Current at contact 6 = -0.000950954454713824\n",
      "Current at contact 7 = 0.00016356074857934726\n",
      "Current at contact 8 = 0.0001852812763175574\n",
      "Current at contact 9 = -0.0028123241733584063\n",
      "Current at contact 10 = 0.0013179202786218114\n"
     ]
    }
   ],
   "source": [
    "# sanity checks\n",
    "# comp_currs = []\n",
    "for i in range(N):\n",
    "    I = assemble(-sigma*dot(grad(U[0]), n)*ds(i+cnt_id))\n",
    "    print('Current at contact {} = {}'.format(i, I))"
   ]
  },
  {
   "cell_type": "code",
   "execution_count": 11,
   "metadata": {},
   "outputs": [],
   "source": [
    "info(parameters,True)"
   ]
  },
  {
   "cell_type": "code",
   "execution_count": 12,
   "metadata": {},
   "outputs": [
    {
     "name": "stdout",
     "output_type": "stream",
     "text": [
      "allow_extrapolation \t\t False\n",
      "dof_ordering_library \t\t SCOTCH\n",
      "form_compiler \t\t <dolfin.cpp.parameter.Parameters object at 0x7f4eec23cc38>\n",
      "ghost_mode \t\t none\n",
      "graph_coloring_library \t\t Boost\n",
      "krylov_solver \t\t <dolfin.cpp.parameter.Parameters object at 0x7f4eec23cc38>\n",
      "linear_algebra_backend \t\t PETSc\n",
      "lu_solver \t\t <dolfin.cpp.parameter.Parameters object at 0x7f4eec23cc38>\n",
      "mesh_partitioner \t\t SCOTCH\n",
      "partitioning_approach \t\t PARTITION\n",
      "print_mpi_thread_support_level \t\t False\n",
      "refinement_algorithm \t\t plaza\n",
      "relative_line_width \t\t 0.025\n",
      "reorder_cells_gps \t\t False\n",
      "reorder_dofs_serial \t\t True\n",
      "reorder_vertices_gps \t\t False\n",
      "std_out_all_processes \t\t True\n",
      "timer_prefix \t\t \n",
      "use_petsc_signal_handler \t\t False\n",
      "warn_on_xml_file_size \t\t 100\n"
     ]
    }
   ],
   "source": [
    "for p in parameters:\n",
    "    print(p,'\\t\\t',parameters[p])"
   ]
  },
  {
   "cell_type": "code",
   "execution_count": 13,
   "metadata": {},
   "outputs": [
    {
     "name": "stdout",
     "output_type": "stream",
     "text": [
      "(26614, -2.8734860697821105) (16732, 10.724360691283524)\n",
      "(0, 4.231034218625472) (0, 4.231034218625472)\n",
      "(0, 4.294785118263007) (0, 4.294785118263007)\n",
      "(0, 4.3680363086128215) (0, 4.3680363086128215)\n",
      "(0, 4.450633441012825) (0, 4.450633441012825)\n",
      "(0, 4.54258884188337) (0, 4.54258884188337)\n",
      "(0, 4.643994926935608) (0, 4.643994926935608)\n",
      "(0, 4.755080795474503) (0, 4.755080795474503)\n",
      "(0, 4.876097965654364) (0, 4.876097965654364)\n",
      "(0, 5.007411700561942) (0, 5.007411700561942)\n",
      "(0, 5.149532770226716) (0, 5.149532770226716)\n",
      "(0, 5.302427077220687) (0, 5.302427077220687)\n"
     ]
    }
   ],
   "source": [
    "for sol in U:\n",
    "    q = sol\n",
    "    print(q.vector().vec().min(), q.vector().vec().max())"
   ]
  },
  {
   "cell_type": "code",
   "execution_count": 14,
   "metadata": {},
   "outputs": [
    {
     "data": {
      "text/plain": [
       "((0, 5.302427077220687), (0, 5.302427077220687))"
      ]
     },
     "execution_count": 14,
     "metadata": {},
     "output_type": "execute_result"
    }
   ],
   "source": [
    "q.vector().vec().min(), q.vector().vec().max()"
   ]
  },
  {
   "cell_type": "code",
   "execution_count": 15,
   "metadata": {},
   "outputs": [],
   "source": [
    "qq= U[0].vector().vec()#.shape()"
   ]
  },
  {
   "cell_type": "code",
   "execution_count": 16,
   "metadata": {},
   "outputs": [
    {
     "data": {
      "text/plain": [
       "array([5.00741171, 5.00741171, 5.00741174, ..., 4.45063344, 4.45036222,\n",
       "       4.45063344])"
      ]
     },
     "execution_count": 16,
     "metadata": {},
     "output_type": "execute_result"
    }
   ],
   "source": [
    "qq.array_w"
   ]
  },
  {
   "cell_type": "code",
   "execution_count": 17,
   "metadata": {},
   "outputs": [],
   "source": [
    "qq.assemble()"
   ]
  },
  {
   "cell_type": "code",
   "execution_count": null,
   "metadata": {},
   "outputs": [],
   "source": []
  },
  {
   "cell_type": "code",
   "execution_count": null,
   "metadata": {},
   "outputs": [],
   "source": []
  },
  {
   "cell_type": "code",
   "execution_count": null,
   "metadata": {},
   "outputs": [],
   "source": []
  },
  {
   "cell_type": "code",
   "execution_count": 18,
   "metadata": {},
   "outputs": [
    {
     "data": {
      "text/plain": [
       "array([[ 5.02769513e+04,  6.28373256e+03,  6.28373256e+03, ...,\n",
       "         0.00000000e+00,  0.00000000e+00,  0.00000000e+00],\n",
       "       [ 6.28373256e+03,  2.83848783e+04, -3.14201341e+03, ...,\n",
       "         0.00000000e+00,  0.00000000e+00,  0.00000000e+00],\n",
       "       [ 6.28373256e+03, -3.14201341e+03,  2.25143771e+04, ...,\n",
       "         0.00000000e+00,  0.00000000e+00,  0.00000000e+00],\n",
       "       ...,\n",
       "       [ 0.00000000e+00,  0.00000000e+00,  0.00000000e+00, ...,\n",
       "         6.32602299e+04,  0.00000000e+00,  0.00000000e+00],\n",
       "       [ 0.00000000e+00,  0.00000000e+00,  0.00000000e+00, ...,\n",
       "         0.00000000e+00,  4.70947025e+00, -6.23400841e-01],\n",
       "       [ 0.00000000e+00,  0.00000000e+00,  0.00000000e+00, ...,\n",
       "         0.00000000e+00, -6.23400841e-01,  5.02768947e+04]])"
      ]
     },
     "execution_count": 18,
     "metadata": {},
     "output_type": "execute_result"
    }
   ],
   "source": [
    "A00= assemble(a_00)\n",
    "A00.array()"
   ]
  },
  {
   "cell_type": "code",
   "execution_count": null,
   "metadata": {},
   "outputs": [],
   "source": []
  },
  {
   "cell_type": "code",
   "execution_count": 19,
   "metadata": {},
   "outputs": [],
   "source": [
    "q= U.sub(1)"
   ]
  },
  {
   "cell_type": "code",
   "execution_count": 20,
   "metadata": {},
   "outputs": [],
   "source": [
    "qv = q.vector()"
   ]
  },
  {
   "cell_type": "code",
   "execution_count": 21,
   "metadata": {},
   "outputs": [
    {
     "data": {
      "text/plain": [
       "array([4.23103422])"
      ]
     },
     "execution_count": 21,
     "metadata": {},
     "output_type": "execute_result"
    }
   ],
   "source": [
    "qv.vec()[:]"
   ]
  },
  {
   "cell_type": "code",
   "execution_count": 22,
   "metadata": {},
   "outputs": [
    {
     "data": {
      "text/plain": [
       "1"
      ]
     },
     "execution_count": 22,
     "metadata": {},
     "output_type": "execute_result"
    }
   ],
   "source": [
    "len(qv)"
   ]
  },
  {
   "cell_type": "code",
   "execution_count": null,
   "metadata": {},
   "outputs": [],
   "source": []
  },
  {
   "cell_type": "code",
   "execution_count": 23,
   "metadata": {},
   "outputs": [
    {
     "ename": "AttributeError",
     "evalue": "'BlockFunctionSpace' object has no attribute 'split'",
     "output_type": "error",
     "traceback": [
      "\u001b[0;31m---------------------------------------------------------------------------\u001b[0m",
      "\u001b[0;31mAttributeError\u001b[0m                            Traceback (most recent call last)",
      "\u001b[0;32m<ipython-input-23-4e7c824fda66>\u001b[0m in \u001b[0;36m<module>\u001b[0;34m()\u001b[0m\n\u001b[0;32m----> 1\u001b[0;31m \u001b[0mW\u001b[0m\u001b[0;34m.\u001b[0m\u001b[0msplit\u001b[0m\u001b[0;34m(\u001b[0m\u001b[0;34m)\u001b[0m\u001b[0;34m\u001b[0m\u001b[0;34m\u001b[0m\u001b[0m\n\u001b[0m",
      "\u001b[0;31mAttributeError\u001b[0m: 'BlockFunctionSpace' object has no attribute 'split'"
     ]
    }
   ],
   "source": [
    "W.split()"
   ]
  },
  {
   "cell_type": "code",
   "execution_count": null,
   "metadata": {},
   "outputs": [],
   "source": [
    "mesh = UnitSquareMesh(20,20)\n",
    "subdomains = MeshFunction(\"size_t\", mesh, mesh.topology().dim(), mesh.domains())\n",
    "boundaries = MeshFunction('size_t', mesh, mesh.topology().dim()-1, 0)\n",
    "\n",
    "left = Left(); left.mark(boundaries, 1)\n",
    "right = Right(); right.mark(boundaries,2)\n",
    "bottom = Bottom();  bottom.mark(boundaries, 3)\n",
    "hole = Hole(); hole.mark(boundaries, 4)\n",
    "File('boundaries.pvd') << boundaries\n",
    "\n",
    "dx = Measure(\"dx\")(subdomain_data=subdomains)\n",
    "ds = Measure(\"ds\")(subdomain_data=boundaries)\n",
    "dS = Measure(\"dS\")(subdomain_data=boundaries)\n",
    "n = FacetNormal(mesh)\n",
    "\n",
    "for i in range(5):\n",
    "    print(assemble(dot(n,n)*ds(i)))\n",
    "    \n",
    "10*0.2 + 16*sqrt(2)*0.2/4"
   ]
  }
 ],
 "metadata": {
  "kernelspec": {
   "display_name": "Python 3",
   "language": "python",
   "name": "python3"
  },
  "language_info": {
   "codemirror_mode": {
    "name": "ipython",
    "version": 3
   },
   "file_extension": ".py",
   "mimetype": "text/x-python",
   "name": "python",
   "nbconvert_exporter": "python",
   "pygments_lexer": "ipython3",
   "version": "3.6.9"
  }
 },
 "nbformat": 4,
 "nbformat_minor": 2
}
