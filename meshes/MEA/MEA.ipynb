{
 "cells": [
  {
   "cell_type": "code",
   "execution_count": 1,
   "metadata": {},
   "outputs": [],
   "source": [
    "import matplotlib\n",
    "# import matplotlib.cm as cm\n",
    "# from matplotlib.colors import Normalize\n",
    "# from mpl_toolkits.axes_grid1.inset_locator import (inset_axes, InsetPosition,\n",
    "# mark_inset)\n",
    "# %matplotlib inline\n",
    "# matplotlib.use('Qt5Agg')\n",
    "import matplotlib.pyplot as plt\n",
    "import numpy as np\n",
    "# from numpy import isclose\n",
    "from dolfin import *\n",
    "# import matplotlib.pyplot as plt\n",
    "from multiphenics import *\n",
    "\n",
    "# import dolfin\n",
    "# import multiphenics\n",
    "# import matplotlib\n",
    "\n",
    "# print(np.__version__) # 1.19.5\n",
    "# print(matplotlib.__version__) # 3.0.3\n",
    "# print(dolfin.__version__)# 2019.2.0.dev0"
   ]
  },
  {
   "cell_type": "markdown",
   "metadata": {},
   "source": [
    "# Goal\n",
    "?"
   ]
  },
  {
   "cell_type": "code",
   "execution_count": 2,
   "metadata": {},
   "outputs": [],
   "source": [
    "# Some global parameters\n",
    "tol = DOLFIN_EPS\n",
    "degree = 2\n",
    "\n",
    "sigma = 1\n",
    "L = 1. # mesh size\n",
    "dL = 0.1 # contact size"
   ]
  },
  {
   "cell_type": "code",
   "execution_count": 6,
   "metadata": {},
   "outputs": [],
   "source": [
    "mesh_name = 'DBS'\n",
    "mesh = Mesh(mesh_name+\".xml\")\n",
    "subdomains = MeshFunction(\"size_t\", mesh, mesh_name+\"_physical_region.xml\")\n",
    "boundaries = MeshFunction(\"size_t\", mesh, mesh_name+\"_facet_region.xml\")\n",
    "File(\"DBS_mesh.pvd\") << boundaries\n",
    "\n",
    "N=6 # number of contacts\n",
    "cnt_id=33 # contacts id begin from this number"
   ]
  },
  {
   "cell_type": "code",
   "execution_count": 7,
   "metadata": {},
   "outputs": [],
   "source": [
    "dx = Measure(\"dx\")(subdomain_data=subdomains)\n",
    "ds = Measure(\"ds\")(subdomain_data=boundaries)\n",
    "# dS = Measure(\"dS\")(subdomain_data=boundaries)\n",
    "n = FacetNormal(mesh)"
   ]
  },
  {
   "cell_type": "code",
   "execution_count": 77,
   "metadata": {},
   "outputs": [],
   "source": [
    "V = FunctionSpace(mesh, \"Lagrange\", degree)\n",
    "R = FunctionSpace(mesh, \"R\", 0) # global constant\n",
    "W = BlockFunctionSpace([V]+[R]*(N))#, restrict=[None]+ contacts)\n",
    "\n",
    "u_mix = BlockTrialFunction(W)\n",
    "v_mix = BlockTestFunction(W)\n",
    "\n",
    "# order: contact1, contact2, ...\n",
    "u_spl = block_split(u_mix)\n",
    "v_spl = block_split(v_mix)\n",
    "\n",
    "z= 1e-9\n",
    "\n",
    "# RHS\n",
    "a_00 = inner(sigma*grad(u_spl[0]), grad(v_spl[0]))*dx\n",
    "for i in range(N):\n",
    "    a_00 += dot(u_spl[0],v_spl[0])/z*ds(i+cnt_id)\n",
    "a_0n = [-dot(u_spl[0], v_spl[i+1])/z*ds(i+cnt_id) for i in range(N)]\n",
    "a_n0 = [-dot(u_spl[i+1], v_spl[0])/z*ds(i+cnt_id) for i in range(N)]\n",
    "a_nn = [+dot(u_spl[i+1], v_spl[i+1])/z*ds(i+cnt_id) for i in range(N)]\n",
    "\n",
    "\n",
    "a = np.zeros((N+1,N+1), dtype=type(a_00))\n",
    "np.fill_diagonal(a, [a_00]+a_nn)\n",
    "a[0,1:] = a_0n\n",
    "a[1:,0] = a_n0 \n",
    "a = a.tolist()\n",
    "\n",
    "# LHS\n",
    "f= Expression(\"1-sin(x[0]/pi)\", element=V.ufl_element())\n",
    "I= [ Constant(0), Constant(0),Constant(0), Constant(0), Constant(0), Constant(0) ]\n",
    "DL = [assemble(dot(n,n)*ds(i+cnt_id)) for i in range(N)] # actual contact length\n",
    "\n",
    "b= [ f*v_spl[0]*dx ] + [ I[i]*v_spl[i+1]/DL[i]*ds(i+cnt_id) for i in range(N)]\n",
    "\n",
    "# BC\n",
    "bc0 = DirichletBC(W.sub(0), Constant(1) ,boundaries, 2) # left\n",
    "bc1 = DirichletBC(W.sub(0), Constant(0), boundaries, 3) # right\n",
    "bc2 = DirichletBC(W.sub(0), Constant(0), boundaries, 4) # bottom\n",
    "\n",
    "bcs = BlockDirichletBC([[bc0, bc1]]+[[]]*N)"
   ]
  },
  {
   "cell_type": "code",
   "execution_count": 78,
   "metadata": {},
   "outputs": [],
   "source": [
    "# SOLVE #\n",
    "A = block_assemble(a)\n",
    "B = block_assemble(b)\n",
    "\n",
    "bcs.apply(A)\n",
    "bcs.apply(B)\n",
    "\n",
    "U = BlockFunction(W)\n",
    "block_solve(A, U.block_vector(), B)"
   ]
  },
  {
   "cell_type": "code",
   "execution_count": 79,
   "metadata": {},
   "outputs": [
    {
     "data": {
      "image/png": "[encoded data removed]",
      "text/plain": [
       "<Figure size 432x288 with 2 Axes>"
      ]
     },
     "metadata": {},
     "output_type": "display_data"
    }
   ],
   "source": [
    "m =plot(U[0])\n",
    "plt.colorbar(m)\n",
    "plt.show()\n",
    "File('sol_DBS.pvd') << U[0]"
   ]
  },
  {
   "cell_type": "code",
   "execution_count": 32,
   "metadata": {},
   "outputs": [
    {
     "data": {
      "text/plain": [
       "1"
      ]
     },
     "execution_count": 32,
     "metadata": {},
     "output_type": "execute_result"
    }
   ],
   "source": [
    "\n",
    "\n",
    "N"
   ]
  },
  {
   "cell_type": "code",
   "execution_count": 43,
   "metadata": {},
   "outputs": [
    {
     "name": "stdout",
     "output_type": "stream",
     "text": [
      "Current at border 0 = 0.06200156125824218 \t length = 0.5000000000000001\n",
      "Current at border 1 = 0.49394413544656857 \t length = 1.0\n",
      "Current at border 2 = -3.889308801440184 \t length = 1.0\n",
      "Current at border 3 = 4.2998387929951445 \t length = 1.0\n",
      "Current at border 4 = 0.0689512688328337 \t length = 0.1\n",
      "Current at border 5 = -0.008862724514743854 \t length = 0.09999999999999998\n",
      "Current at border 6 = -0.009688886844226904 \t length = 0.09999999999999998\n",
      "Current at border 7 = -0.010518358214418308 \t length = 0.09999999999999998\n",
      "Current at border 8 = -0.010470810143234269 \t length = 0.09999999999999998\n",
      "Current at contact 4 = -15.000000000000021\n",
      "Current at contact 5 = -4.1633363770388065e-09\n",
      "Current at contact 6 = -5.551114290458514e-10\n",
      "Current at contact 7 = 4.440891834822658e-09\n",
      "Current at contact 8 = -1.776356811644675e-08\n"
     ]
    }
   ],
   "source": [
    "# sanity checks\n",
    "# comp_currs = []\n",
    "for i in range(cnt_id+N):\n",
    "    I = assemble(-sigma*dot(grad(U[0]), n)*ds(i))\n",
    "    l = assemble(dot(n, n)*ds(i))\n",
    "    print('Current at border {} = {} \\t length = {}'.format(i, I, l))\n",
    "\n",
    "for i in range(cnt_id,cnt_id+N):\n",
    "    I = assemble((U[0]-U[i+1-cnt_id])/z*ds(i))\n",
    "    print('Current at contact {} = {}'.format(i, I))"
   ]
  },
  {
   "cell_type": "code",
   "execution_count": 13,
   "metadata": {},
   "outputs": [
    {
     "data": {
      "text/plain": [
       "array([6.40744613e-06])"
      ]
     },
     "execution_count": 13,
     "metadata": {},
     "output_type": "execute_result"
    }
   ],
   "source": [
    "U[1].vector().vec()[:]"
   ]
  },
  {
   "cell_type": "code",
   "execution_count": 14,
   "metadata": {},
   "outputs": [
    {
     "name": "stdout",
     "output_type": "stream",
     "text": [
      "Current at contact 0 = 0.07460534396761825\n"
     ]
    }
   ],
   "source": [
    "# sanity checks\n",
    "# comp_currs = []\n",
    "for i in range(N):\n",
    "    I = assemble(-sigma*dot(grad(U[0]), n)*ds(i+cnt_id))\n",
    "    print('Current at contact {} = {}'.format(i, I))"
   ]
  },
  {
   "cell_type": "code",
   "execution_count": 15,
   "metadata": {},
   "outputs": [],
   "source": [
    "info(parameters,True)"
   ]
  },
  {
   "cell_type": "code",
   "execution_count": 16,
   "metadata": {},
   "outputs": [
    {
     "name": "stdout",
     "output_type": "stream",
     "text": [
      "allow_extrapolation \t\t False\n",
      "dof_ordering_library \t\t SCOTCH\n",
      "form_compiler \t\t <dolfin.cpp.parameter.Parameters object at 0x7f52a01df9d0>\n",
      "ghost_mode \t\t none\n",
      "graph_coloring_library \t\t Boost\n",
      "krylov_solver \t\t <dolfin.cpp.parameter.Parameters object at 0x7f52a01df9d0>\n",
      "linear_algebra_backend \t\t PETSc\n",
      "lu_solver \t\t <dolfin.cpp.parameter.Parameters object at 0x7f52a01df9d0>\n",
      "mesh_partitioner \t\t SCOTCH\n",
      "partitioning_approach \t\t PARTITION\n",
      "print_mpi_thread_support_level \t\t False\n",
      "refinement_algorithm \t\t plaza\n",
      "relative_line_width \t\t 0.025\n",
      "reorder_cells_gps \t\t False\n",
      "reorder_dofs_serial \t\t True\n",
      "reorder_vertices_gps \t\t False\n",
      "std_out_all_processes \t\t True\n",
      "timer_prefix \t\t \n",
      "use_petsc_signal_handler \t\t False\n",
      "warn_on_xml_file_size \t\t 100\n"
     ]
    }
   ],
   "source": [
    "for p in parameters:\n",
    "    print(p,'\\t\\t',parameters[p])"
   ]
  },
  {
   "cell_type": "code",
   "execution_count": 17,
   "metadata": {},
   "outputs": [
    {
     "name": "stdout",
     "output_type": "stream",
     "text": [
      "(0, 0.0) (5148, 1.0)\n",
      "(0, 6.4074461282627465e-06) (0, 6.4074461282627465e-06)\n"
     ]
    }
   ],
   "source": [
    "for sol in U:\n",
    "    q = sol\n",
    "    print(q.vector().vec().min(), q.vector().vec().max())"
   ]
  },
  {
   "cell_type": "code",
   "execution_count": 18,
   "metadata": {},
   "outputs": [
    {
     "data": {
      "text/plain": [
       "((0, 6.4074461282627465e-06), (0, 6.4074461282627465e-06))"
      ]
     },
     "execution_count": 18,
     "metadata": {},
     "output_type": "execute_result"
    }
   ],
   "source": [
    "q.vector().vec().min(), q.vector().vec().max()"
   ]
  },
  {
   "cell_type": "code",
   "execution_count": 19,
   "metadata": {},
   "outputs": [],
   "source": [
    "qq= U[0].vector().vec()#.shape()"
   ]
  },
  {
   "cell_type": "code",
   "execution_count": 20,
   "metadata": {},
   "outputs": [
    {
     "data": {
      "text/plain": [
       "array([0.00000000e+00, 0.00000000e+00, 5.30832398e-06, ...,\n",
       "       1.00000000e+00, 1.00000000e+00, 9.89959307e-01])"
      ]
     },
     "execution_count": 20,
     "metadata": {},
     "output_type": "execute_result"
    }
   ],
   "source": [
    "qq.array_w"
   ]
  },
  {
   "cell_type": "code",
   "execution_count": 21,
   "metadata": {},
   "outputs": [],
   "source": [
    "qq.assemble()"
   ]
  },
  {
   "cell_type": "code",
   "execution_count": null,
   "metadata": {},
   "outputs": [],
   "source": []
  },
  {
   "cell_type": "code",
   "execution_count": null,
   "metadata": {},
   "outputs": [],
   "source": []
  },
  {
   "cell_type": "code",
   "execution_count": null,
   "metadata": {},
   "outputs": [],
   "source": []
  },
  {
   "cell_type": "code",
   "execution_count": 22,
   "metadata": {},
   "outputs": [
    {
     "data": {
      "text/plain": [
       "array([[ 2.66666767e+06,  1.66666667e-01, -6.66666500e+05, ...,\n",
       "         0.00000000e+00,  0.00000000e+00,  0.00000000e+00],\n",
       "       [ 1.66666667e-01,  2.00000000e+00, -1.77635684e-15, ...,\n",
       "         0.00000000e+00,  0.00000000e+00,  0.00000000e+00],\n",
       "       [-6.66666500e+05, -1.77635684e-15,  5.33333533e+06, ...,\n",
       "         0.00000000e+00,  0.00000000e+00,  0.00000000e+00],\n",
       "       ...,\n",
       "       [ 0.00000000e+00,  0.00000000e+00,  0.00000000e+00, ...,\n",
       "         1.00000000e+00, -6.66666667e-01, -6.66666667e-01],\n",
       "       [ 0.00000000e+00,  0.00000000e+00,  0.00000000e+00, ...,\n",
       "        -6.66666667e-01,  2.66666667e+00,  6.43929354e-15],\n",
       "       [ 0.00000000e+00,  0.00000000e+00,  0.00000000e+00, ...,\n",
       "        -6.66666667e-01,  6.43929354e-15,  2.66666667e+00]])"
      ]
     },
     "execution_count": 22,
     "metadata": {},
     "output_type": "execute_result"
    }
   ],
   "source": [
    "A00= assemble(a_00)\n",
    "A00.array()"
   ]
  },
  {
   "cell_type": "code",
   "execution_count": null,
   "metadata": {},
   "outputs": [],
   "source": []
  },
  {
   "cell_type": "code",
   "execution_count": 23,
   "metadata": {},
   "outputs": [],
   "source": [
    "q= U.sub(1)"
   ]
  },
  {
   "cell_type": "code",
   "execution_count": 24,
   "metadata": {},
   "outputs": [],
   "source": [
    "qv = q.vector()"
   ]
  },
  {
   "cell_type": "code",
   "execution_count": 25,
   "metadata": {},
   "outputs": [
    {
     "data": {
      "text/plain": [
       "array([6.40744613e-06])"
      ]
     },
     "execution_count": 25,
     "metadata": {},
     "output_type": "execute_result"
    }
   ],
   "source": [
    "qv.vec()[:]"
   ]
  },
  {
   "cell_type": "code",
   "execution_count": 26,
   "metadata": {},
   "outputs": [
    {
     "data": {
      "text/plain": [
       "1"
      ]
     },
     "execution_count": 26,
     "metadata": {},
     "output_type": "execute_result"
    }
   ],
   "source": [
    "len(qv)"
   ]
  },
  {
   "cell_type": "code",
   "execution_count": null,
   "metadata": {},
   "outputs": [],
   "source": []
  },
  {
   "cell_type": "code",
   "execution_count": 27,
   "metadata": {},
   "outputs": [
    {
     "ename": "AttributeError",
     "evalue": "'BlockFunctionSpace' object has no attribute 'split'",
     "output_type": "error",
     "traceback": [
      "\u001b[0;31m---------------------------------------------------------------------------\u001b[0m",
      "\u001b[0;31mAttributeError\u001b[0m                            Traceback (most recent call last)",
      "\u001b[0;32m<ipython-input-27-4e7c824fda66>\u001b[0m in \u001b[0;36m<module>\u001b[0;34m()\u001b[0m\n\u001b[0;32m----> 1\u001b[0;31m \u001b[0mW\u001b[0m\u001b[0;34m.\u001b[0m\u001b[0msplit\u001b[0m\u001b[0;34m(\u001b[0m\u001b[0;34m)\u001b[0m\u001b[0;34m\u001b[0m\u001b[0;34m\u001b[0m\u001b[0m\n\u001b[0m",
      "\u001b[0;31mAttributeError\u001b[0m: 'BlockFunctionSpace' object has no attribute 'split'"
     ]
    }
   ],
   "source": [
    "W.split()"
   ]
  },
  {
   "cell_type": "code",
   "execution_count": null,
   "metadata": {},
   "outputs": [],
   "source": [
    "mesh = UnitSquareMesh(20,20)\n",
    "subdomains = MeshFunction(\"size_t\", mesh, mesh.topology().dim(), mesh.domains())\n",
    "boundaries = MeshFunction('size_t', mesh, mesh.topology().dim()-1, 0)\n",
    "\n",
    "left = Left(); left.mark(boundaries, 1)\n",
    "right = Right(); right.mark(boundaries,2)\n",
    "bottom = Bottom();  bottom.mark(boundaries, 3)\n",
    "hole = Hole(); hole.mark(boundaries, 4)\n",
    "File('boundaries.pvd') << boundaries\n",
    "\n",
    "dx = Measure(\"dx\")(subdomain_data=subdomains)\n",
    "ds = Measure(\"ds\")(subdomain_data=boundaries)\n",
    "dS = Measure(\"dS\")(subdomain_data=boundaries)\n",
    "n = FacetNormal(mesh)\n",
    "\n",
    "for i in range(5):\n",
    "    print(assemble(dot(n,n)*ds(i)))\n",
    "    \n",
    "10*0.2 + 16*sqrt(2)*0.2/4"
   ]
  }
 ],
 "metadata": {
  "kernelspec": {
   "display_name": "Python 3",
   "language": "python",
   "name": "python3"
  },
  "language_info": {
   "codemirror_mode": {
    "name": "ipython",
    "version": 3
   },
   "file_extension": ".py",
   "mimetype": "text/x-python",
   "name": "python",
   "nbconvert_exporter": "python",
   "pygments_lexer": "ipython3",
   "version": "3.6.9"
  }
 },
 "nbformat": 4,
 "nbformat_minor": 2
}
